{
 "cells": [
  {
   "cell_type": "code",
   "execution_count": 4,
   "id": "f5a67bab",
   "metadata": {},
   "outputs": [],
   "source": [
    "import re"
   ]
  },
  {
   "cell_type": "code",
   "execution_count": 15,
   "id": "37440e76",
   "metadata": {},
   "outputs": [
    {
     "data": {
      "text/plain": [
       "38160"
      ]
     },
     "execution_count": 15,
     "metadata": {},
     "output_type": "execute_result"
    }
   ],
   "source": [
    "with open('big.txt','r') as fd:\n",
    "    lines=fd.readlines()\n",
    "    words=[]\n",
    "    for line in lines:\n",
    "        words+=re.findall('\\w+',line)\n",
    "        \n",
    "len(words)\n",
    "vocab=list(set(words))\n",
    "len(word)"
   ]
  },
  {
   "cell_type": "code",
   "execution_count": 7,
   "id": "dc921a79",
   "metadata": {},
   "outputs": [
    {
     "data": {
      "text/plain": [
       "1164968"
      ]
     },
     "execution_count": 7,
     "metadata": {},
     "output_type": "execute_result"
    }
   ],
   "source": [
    "# with open('big.txt','r') as fd:\n",
    "#     lines=fd.readlines()\n",
    "#     words=[]\n",
    "#     for line in lines:\n",
    "#         words+=line.split(' ')\n",
    "        \n",
    "# len(words)"
   ]
  },
  {
   "cell_type": "markdown",
   "id": "1e758406",
   "metadata": {},
   "source": [
    "### probability distribution "
   ]
  },
  {
   "cell_type": "code",
   "execution_count": 17,
   "id": "97bbb6d6",
   "metadata": {},
   "outputs": [],
   "source": [
    "word_probabilities={}\n",
    "for word in vocab:\n",
    "    word_probabilities[word]=float(words.count(word)/len(words))"
   ]
  },
  {
   "cell_type": "code",
   "execution_count": 18,
   "id": "3ad5d0d3",
   "metadata": {},
   "outputs": [
    {
     "data": {
      "text/plain": [
       "38160"
      ]
     },
     "execution_count": 18,
     "metadata": {},
     "output_type": "execute_result"
    }
   ],
   "source": [
    "len(word_probabilities)"
   ]
  },
  {
   "cell_type": "markdown",
   "id": "61776342",
   "metadata": {},
   "source": [
    "### Text processing"
   ]
  },
  {
   "cell_type": "markdown",
   "id": "33c9eefd",
   "metadata": {},
   "source": [
    "#### delete"
   ]
  },
  {
   "cell_type": "code",
   "execution_count": 21,
   "id": "353778ce",
   "metadata": {},
   "outputs": [],
   "source": [
    "def split(word):\n",
    "    parts=[]\n",
    "    for i in range(len(word)+1):\n",
    "        parts+=[(word[:i],word[i:])]\n",
    "    return parts"
   ]
  },
  {
   "cell_type": "code",
   "execution_count": 22,
   "id": "dd65d71c",
   "metadata": {},
   "outputs": [
    {
     "data": {
      "text/plain": [
       "[('', 'Gopal'),\n",
       " ('G', 'opal'),\n",
       " ('Go', 'pal'),\n",
       " ('Gop', 'al'),\n",
       " ('Gopa', 'l'),\n",
       " ('Gopal', '')]"
      ]
     },
     "execution_count": 22,
     "metadata": {},
     "output_type": "execute_result"
    }
   ],
   "source": [
    "split('Gopal')"
   ]
  },
  {
   "cell_type": "code",
   "execution_count": 33,
   "id": "e451fc56",
   "metadata": {},
   "outputs": [],
   "source": [
    "def delete(word):\n",
    "    output=[]\n",
    "    for l,r in split(word):\n",
    "        output.append(l+r[1:])\n",
    "    return output"
   ]
  },
  {
   "cell_type": "code",
   "execution_count": 34,
   "id": "68b0f77f",
   "metadata": {},
   "outputs": [
    {
     "data": {
      "text/plain": [
       "['eallo', 'hallo', 'hello', 'healo', 'healo', 'heall', 'heallo']"
      ]
     },
     "execution_count": 34,
     "metadata": {},
     "output_type": "execute_result"
    }
   ],
   "source": [
    "delete('heallo')"
   ]
  },
  {
   "cell_type": "markdown",
   "id": "0a4114c3",
   "metadata": {},
   "source": [
    "### Swap"
   ]
  },
  {
   "cell_type": "code",
   "execution_count": 40,
   "id": "0d268d5c",
   "metadata": {},
   "outputs": [],
   "source": [
    "def swap(word):\n",
    "    output=[]\n",
    "    for l,r in split(word):\n",
    "        if len(r)>1:\n",
    "            output.append(l+r[1]+r[0]+r[2:])\n",
    "    return output"
   ]
  },
  {
   "cell_type": "code",
   "execution_count": 41,
   "id": "fc3ed42c",
   "metadata": {},
   "outputs": [
    {
     "data": {
      "text/plain": [
       "['vloe', 'love', 'lveo']"
      ]
     },
     "execution_count": 41,
     "metadata": {},
     "output_type": "execute_result"
    }
   ],
   "source": [
    "swap('lvoe')"
   ]
  },
  {
   "cell_type": "markdown",
   "id": "d3ece930",
   "metadata": {},
   "source": [
    "### Replace"
   ]
  },
  {
   "cell_type": "code",
   "execution_count": 56,
   "id": "163d4745",
   "metadata": {},
   "outputs": [],
   "source": [
    "def replace(word):\n",
    "    characters='abcdefghijklmnopqrstuvwxyz'\n",
    "    output=[]\n",
    "    for l,r in split(word):\n",
    "        for char in characters:\n",
    "            output.append(l+char+r[1:])\n",
    "    return output"
   ]
  },
  {
   "cell_type": "code",
   "execution_count": 63,
   "id": "357dd864",
   "metadata": {},
   "outputs": [
    {
     "data": {
      "text/plain": [
       "130"
      ]
     },
     "execution_count": 63,
     "metadata": {},
     "output_type": "execute_result"
    }
   ],
   "source": [
    "len(replace('loee'))"
   ]
  },
  {
   "cell_type": "markdown",
   "id": "b9acee09",
   "metadata": {},
   "source": [
    "### insert"
   ]
  },
  {
   "cell_type": "code",
   "execution_count": 65,
   "id": "554363ca",
   "metadata": {},
   "outputs": [],
   "source": [
    "def insert(word):\n",
    "    characters='abcdefghijklmnopqrstuvwxyz'\n",
    "    output=[]\n",
    "    for l,r in split(word):\n",
    "        for char in characters:\n",
    "            output.append(l+char+r)\n",
    "    return output"
   ]
  },
  {
   "cell_type": "markdown",
   "id": "a2727aad",
   "metadata": {},
   "source": [
    "### finding the prediction"
   ]
  },
  {
   "cell_type": "markdown",
   "id": "724c080c",
   "metadata": {},
   "source": [
    "#### Combinning possible words"
   ]
  },
  {
   "cell_type": "code",
   "execution_count": 78,
   "id": "14117a57",
   "metadata": {},
   "outputs": [],
   "source": [
    "def edit(word):\n",
    "    return (insert(word)+delete(word)+swap(word)+replace(word))\n",
    "    "
   ]
  },
  {
   "cell_type": "code",
   "execution_count": 90,
   "id": "36fbf71d",
   "metadata": {},
   "outputs": [],
   "source": [
    "suggested_words="
   ]
  },
  {
   "cell_type": "code",
   "execution_count": 92,
   "id": "d7e5e4fb",
   "metadata": {},
   "outputs": [],
   "source": [
    "import pandas as pd"
   ]
  },
  {
   "cell_type": "code",
   "execution_count": 119,
   "id": "40c7661a",
   "metadata": {},
   "outputs": [],
   "source": [
    "def spell_check_edit_1(word,count=5):\n",
    "    suggested_words=edit(word)\n",
    "    output=[]\n",
    "    for wrd in suggested_words:\n",
    "        if wrd in word_probabilities.keys():\n",
    "            output.append([wrd,word_probabilities[wrd]])\n",
    "    return pd.DataFrame(output,columns=['word','prob']).sort_values(by='prob',ascending=False).head(count)['word'].values"
   ]
  },
  {
   "cell_type": "code",
   "execution_count": 108,
   "id": "423c1546",
   "metadata": {},
   "outputs": [
    {
     "data": {
      "text/plain": [
       "array(['the', 'he', 'they', 'they', 'them'], dtype=object)"
      ]
     },
     "execution_count": 108,
     "metadata": {},
     "output_type": "execute_result"
    }
   ],
   "source": [
    "spell_check('the')"
   ]
  },
  {
   "cell_type": "markdown",
   "id": "63642060",
   "metadata": {},
   "source": [
    "### finding the prediction (level 2)"
   ]
  },
  {
   "cell_type": "markdown",
   "id": "584dd069",
   "metadata": {},
   "source": [
    "#### combinning possible words"
   ]
  },
  {
   "cell_type": "code",
   "execution_count": 120,
   "id": "adf5254d",
   "metadata": {},
   "outputs": [],
   "source": [
    "def spell_check_edit_2(word,count=5):\n",
    "    output=[]\n",
    "    suggested=edit(word)                       #level1\n",
    "    for e1 in edit(word):\n",
    "        suggested+=(edit(e1))                  #level2\n",
    "    suggested=list(set(suggested))\n",
    "    for wrd in suggested:\n",
    "        if wrd in word_probabilities.keys():\n",
    "            output.append([wrd,word_probabilities[wrd]])\n",
    "    return pd.DataFrame(output,columns=['word','prob']).sort_values(by='prob',ascending=False).head(count)['word'].values\n"
   ]
  },
  {
   "cell_type": "code",
   "execution_count": 121,
   "id": "dbcb5162",
   "metadata": {},
   "outputs": [
    {
     "data": {
      "text/plain": [
       "array(['love'], dtype=object)"
      ]
     },
     "execution_count": 121,
     "metadata": {},
     "output_type": "execute_result"
    }
   ],
   "source": [
    "spell_check_edit_1('loave')"
   ]
  },
  {
   "cell_type": "code",
   "execution_count": 122,
   "id": "9391f59f",
   "metadata": {},
   "outputs": [
    {
     "data": {
      "text/plain": [
       "array(['love', 'leave', 'loved', 'slave', 'lover'], dtype=object)"
      ]
     },
     "execution_count": 122,
     "metadata": {},
     "output_type": "execute_result"
    }
   ],
   "source": [
    "spell_check_edit_2('loave')"
   ]
  },
  {
   "cell_type": "code",
   "execution_count": null,
   "id": "2ffcc953",
   "metadata": {},
   "outputs": [],
   "source": []
  }
 ],
 "metadata": {
  "kernelspec": {
   "display_name": "Python 3 (ipykernel)",
   "language": "python",
   "name": "python3"
  },
  "language_info": {
   "codemirror_mode": {
    "name": "ipython",
    "version": 3
   },
   "file_extension": ".py",
   "mimetype": "text/x-python",
   "name": "python",
   "nbconvert_exporter": "python",
   "pygments_lexer": "ipython3",
   "version": "3.9.12"
  }
 },
 "nbformat": 4,
 "nbformat_minor": 5
}
